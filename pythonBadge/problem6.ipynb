{
 "cells": [
  {
   "cell_type": "code",
   "execution_count": 21,
   "metadata": {},
   "outputs": [],
   "source": [
    "import pandas as pd\n",
    "import os\n",
    "import matplotlib.pyplot as plt"
   ]
  },
  {
   "cell_type": "code",
   "execution_count": 7,
   "metadata": {},
   "outputs": [
    {
     "name": "stdout",
     "output_type": "stream",
     "text": [
      "/Users/dorukozar/Documents/MSDS-Technical-Orientation/pythonBadge\n"
     ]
    }
   ],
   "source": [
    "print(os.getcwd())"
   ]
  },
  {
   "cell_type": "code",
   "execution_count": 10,
   "metadata": {},
   "outputs": [
    {
     "data": {
      "text/html": [
       "<div>\n",
       "<style scoped>\n",
       "    .dataframe tbody tr th:only-of-type {\n",
       "        vertical-align: middle;\n",
       "    }\n",
       "\n",
       "    .dataframe tbody tr th {\n",
       "        vertical-align: top;\n",
       "    }\n",
       "\n",
       "    .dataframe thead th {\n",
       "        text-align: right;\n",
       "    }\n",
       "</style>\n",
       "<table border=\"1\" class=\"dataframe\">\n",
       "  <thead>\n",
       "    <tr style=\"text-align: right;\">\n",
       "      <th></th>\n",
       "      <th>Timestamp</th>\n",
       "      <th>What is your uva net id? (e.g. mst3k)</th>\n",
       "      <th>What is your github user name?</th>\n",
       "      <th>Operating System</th>\n",
       "      <th>CPU Cycle Rate (in GHz)</th>\n",
       "      <th>CPU Number of Cores (int)</th>\n",
       "      <th>RAM (in GB)</th>\n",
       "      <th>Hard Drive Size (in GB)</th>\n",
       "      <th>GPU (short description as a string)</th>\n",
       "      <th>GPU CUDA Number of Cores (int)</th>\n",
       "    </tr>\n",
       "  </thead>\n",
       "  <tbody>\n",
       "    <tr>\n",
       "      <th>42</th>\n",
       "      <td>6/15/2021 9:38</td>\n",
       "      <td>NaN</td>\n",
       "      <td>NaN</td>\n",
       "      <td>MacOS</td>\n",
       "      <td>3.10</td>\n",
       "      <td>2</td>\n",
       "      <td>8</td>\n",
       "      <td>500</td>\n",
       "      <td>Intel Iris Plus Graphics 650 1536 MB</td>\n",
       "      <td>NaN</td>\n",
       "    </tr>\n",
       "    <tr>\n",
       "      <th>228</th>\n",
       "      <td>6/13/2023 13:38</td>\n",
       "      <td>ssj9sw</td>\n",
       "      <td>ssj9sw</td>\n",
       "      <td>MacOS</td>\n",
       "      <td>3.20</td>\n",
       "      <td>10</td>\n",
       "      <td>64</td>\n",
       "      <td>4000</td>\n",
       "      <td>Apple M1 Max 32-Core GPU</td>\n",
       "      <td>32.0</td>\n",
       "    </tr>\n",
       "    <tr>\n",
       "      <th>53</th>\n",
       "      <td>6/15/2021 10:36</td>\n",
       "      <td>NaN</td>\n",
       "      <td>NaN</td>\n",
       "      <td>MacOS</td>\n",
       "      <td>2.90</td>\n",
       "      <td>4</td>\n",
       "      <td>16</td>\n",
       "      <td>500</td>\n",
       "      <td>Intel HD 630 &amp; Radeon Pro 560</td>\n",
       "      <td>NaN</td>\n",
       "    </tr>\n",
       "    <tr>\n",
       "      <th>252</th>\n",
       "      <td>6/13/2023 13:45</td>\n",
       "      <td>as4hfs</td>\n",
       "      <td>abhisingh5</td>\n",
       "      <td>MacOS</td>\n",
       "      <td>2.30</td>\n",
       "      <td>2</td>\n",
       "      <td>8</td>\n",
       "      <td>256</td>\n",
       "      <td>M2 integrates an Apple designed ten-core (eigh...</td>\n",
       "      <td>0.0</td>\n",
       "    </tr>\n",
       "    <tr>\n",
       "      <th>94</th>\n",
       "      <td>6/14/2022 14:06</td>\n",
       "      <td>dm5tv</td>\n",
       "      <td>DaviM26</td>\n",
       "      <td>MacOS</td>\n",
       "      <td>2.00</td>\n",
       "      <td>4</td>\n",
       "      <td>16</td>\n",
       "      <td>512</td>\n",
       "      <td>Intel Iris Plus Graphics 1536 MB</td>\n",
       "      <td>24.0</td>\n",
       "    </tr>\n",
       "    <tr>\n",
       "      <th>114</th>\n",
       "      <td>6/14/2022 14:12</td>\n",
       "      <td>rjw8ng</td>\n",
       "      <td>rjw8ng</td>\n",
       "      <td>Windows</td>\n",
       "      <td>2.70</td>\n",
       "      <td>2</td>\n",
       "      <td>8</td>\n",
       "      <td>242</td>\n",
       "      <td>Intel(R) HD Graphics 620</td>\n",
       "      <td>0.0</td>\n",
       "    </tr>\n",
       "    <tr>\n",
       "      <th>35</th>\n",
       "      <td>6/15/2021 9:35</td>\n",
       "      <td>NaN</td>\n",
       "      <td>NaN</td>\n",
       "      <td>Windows 10</td>\n",
       "      <td>1.60</td>\n",
       "      <td>4</td>\n",
       "      <td>8</td>\n",
       "      <td>256</td>\n",
       "      <td>nvidia® quadro® p520 2gb</td>\n",
       "      <td>NaN</td>\n",
       "    </tr>\n",
       "    <tr>\n",
       "      <th>103</th>\n",
       "      <td>6/14/2022 14:09</td>\n",
       "      <td>npm5ct</td>\n",
       "      <td>hyunsuk-ko</td>\n",
       "      <td>Windows</td>\n",
       "      <td>1.61</td>\n",
       "      <td>6</td>\n",
       "      <td>8</td>\n",
       "      <td>222</td>\n",
       "      <td>intel(r) UHD Graphics</td>\n",
       "      <td>0.0</td>\n",
       "    </tr>\n",
       "    <tr>\n",
       "      <th>113</th>\n",
       "      <td>6/14/2022 14:12</td>\n",
       "      <td>nhs2bc</td>\n",
       "      <td>nadirsiddiqui</td>\n",
       "      <td>MacOS</td>\n",
       "      <td>2.10</td>\n",
       "      <td>10</td>\n",
       "      <td>16</td>\n",
       "      <td>1000</td>\n",
       "      <td>M1 Pro</td>\n",
       "      <td>16.0</td>\n",
       "    </tr>\n",
       "    <tr>\n",
       "      <th>58</th>\n",
       "      <td>7/27/2021 23:33</td>\n",
       "      <td>NaN</td>\n",
       "      <td>NaN</td>\n",
       "      <td>Windows 10</td>\n",
       "      <td>1.60</td>\n",
       "      <td>4</td>\n",
       "      <td>8</td>\n",
       "      <td>239</td>\n",
       "      <td>Intel (R) UHD Graphics 620</td>\n",
       "      <td>NaN</td>\n",
       "    </tr>\n",
       "  </tbody>\n",
       "</table>\n",
       "</div>"
      ],
      "text/plain": [
       "           Timestamp What is your uva net id? (e.g. mst3k)  \\\n",
       "42    6/15/2021 9:38                                   NaN   \n",
       "228  6/13/2023 13:38                                ssj9sw   \n",
       "53   6/15/2021 10:36                                   NaN   \n",
       "252  6/13/2023 13:45                                as4hfs   \n",
       "94   6/14/2022 14:06                                 dm5tv   \n",
       "114  6/14/2022 14:12                                rjw8ng   \n",
       "35    6/15/2021 9:35                                   NaN   \n",
       "103  6/14/2022 14:09                                npm5ct   \n",
       "113  6/14/2022 14:12                                nhs2bc   \n",
       "58   7/27/2021 23:33                                   NaN   \n",
       "\n",
       "    What is your github user name? Operating System  CPU Cycle Rate (in GHz)  \\\n",
       "42                             NaN            MacOS                     3.10   \n",
       "228                         ssj9sw            MacOS                     3.20   \n",
       "53                             NaN            MacOS                     2.90   \n",
       "252                     abhisingh5            MacOS                     2.30   \n",
       "94                         DaviM26            MacOS                     2.00   \n",
       "114                         rjw8ng          Windows                     2.70   \n",
       "35                             NaN       Windows 10                     1.60   \n",
       "103                     hyunsuk-ko          Windows                     1.61   \n",
       "113                  nadirsiddiqui            MacOS                     2.10   \n",
       "58                             NaN       Windows 10                     1.60   \n",
       "\n",
       "     CPU Number of Cores (int)  RAM (in GB)  Hard Drive Size (in GB)  \\\n",
       "42                           2            8                      500   \n",
       "228                         10           64                     4000   \n",
       "53                           4           16                      500   \n",
       "252                          2            8                      256   \n",
       "94                           4           16                      512   \n",
       "114                          2            8                      242   \n",
       "35                           4            8                      256   \n",
       "103                          6            8                      222   \n",
       "113                         10           16                     1000   \n",
       "58                           4            8                      239   \n",
       "\n",
       "                   GPU (short description as a string)  \\\n",
       "42                Intel Iris Plus Graphics 650 1536 MB   \n",
       "228                           Apple M1 Max 32-Core GPU   \n",
       "53                       Intel HD 630 & Radeon Pro 560   \n",
       "252  M2 integrates an Apple designed ten-core (eigh...   \n",
       "94                    Intel Iris Plus Graphics 1536 MB   \n",
       "114                           Intel(R) HD Graphics 620   \n",
       "35                            nvidia® quadro® p520 2gb   \n",
       "103                              intel(r) UHD Graphics   \n",
       "113                                             M1 Pro   \n",
       "58                          Intel (R) UHD Graphics 620   \n",
       "\n",
       "     GPU CUDA Number of Cores (int)  \n",
       "42                              NaN  \n",
       "228                            32.0  \n",
       "53                              NaN  \n",
       "252                             0.0  \n",
       "94                             24.0  \n",
       "114                             0.0  \n",
       "35                              NaN  \n",
       "103                             0.0  \n",
       "113                            16.0  \n",
       "58                              NaN  "
      ]
     },
     "execution_count": 10,
     "metadata": {},
     "output_type": "execute_result"
    }
   ],
   "source": [
    "df = pd.read_csv(\"MSDS-Orientation-Computer-Survey(in).csv\")\n",
    "df.sample(10)"
   ]
  },
  {
   "cell_type": "code",
   "execution_count": 11,
   "metadata": {},
   "outputs": [
    {
     "data": {
      "text/html": [
       "<div>\n",
       "<style scoped>\n",
       "    .dataframe tbody tr th:only-of-type {\n",
       "        vertical-align: middle;\n",
       "    }\n",
       "\n",
       "    .dataframe tbody tr th {\n",
       "        vertical-align: top;\n",
       "    }\n",
       "\n",
       "    .dataframe thead th {\n",
       "        text-align: right;\n",
       "    }\n",
       "</style>\n",
       "<table border=\"1\" class=\"dataframe\">\n",
       "  <thead>\n",
       "    <tr style=\"text-align: right;\">\n",
       "      <th></th>\n",
       "      <th>Timestamp</th>\n",
       "      <th>What is your uva net id? (e.g. mst3k)</th>\n",
       "      <th>What is your github user name?</th>\n",
       "      <th>Operating System</th>\n",
       "      <th>CPU Cycle Rate (in GHz)</th>\n",
       "      <th>CPU Number of Cores (int)</th>\n",
       "      <th>RAM (in GB)</th>\n",
       "      <th>Hard Drive Size (in GB)</th>\n",
       "      <th>GPU (short description as a string)</th>\n",
       "      <th>GPU CUDA Number of Cores (int)</th>\n",
       "    </tr>\n",
       "  </thead>\n",
       "  <tbody>\n",
       "    <tr>\n",
       "      <th>3</th>\n",
       "      <td>6/13/2021 22:31</td>\n",
       "      <td>NaN</td>\n",
       "      <td>NaN</td>\n",
       "      <td>MacOS</td>\n",
       "      <td>3.10</td>\n",
       "      <td>2</td>\n",
       "      <td>8</td>\n",
       "      <td>512</td>\n",
       "      <td>Intel Iris Plus Graphics 650</td>\n",
       "      <td>NaN</td>\n",
       "    </tr>\n",
       "    <tr>\n",
       "      <th>5</th>\n",
       "      <td>6/14/2021 14:13</td>\n",
       "      <td>NaN</td>\n",
       "      <td>NaN</td>\n",
       "      <td>MacOS</td>\n",
       "      <td>1.60</td>\n",
       "      <td>2</td>\n",
       "      <td>8</td>\n",
       "      <td>256</td>\n",
       "      <td>Intel HD Graphics 6000 1536 MB</td>\n",
       "      <td>NaN</td>\n",
       "    </tr>\n",
       "    <tr>\n",
       "      <th>6</th>\n",
       "      <td>6/14/2021 15:48</td>\n",
       "      <td>NaN</td>\n",
       "      <td>NaN</td>\n",
       "      <td>MacOS</td>\n",
       "      <td>2.70</td>\n",
       "      <td>2</td>\n",
       "      <td>8</td>\n",
       "      <td>250</td>\n",
       "      <td>Intel Iris Graphics 6100 1536 MB</td>\n",
       "      <td>NaN</td>\n",
       "    </tr>\n",
       "    <tr>\n",
       "      <th>7</th>\n",
       "      <td>6/14/2021 19:29</td>\n",
       "      <td>NaN</td>\n",
       "      <td>NaN</td>\n",
       "      <td>MacOS</td>\n",
       "      <td>2.00</td>\n",
       "      <td>8</td>\n",
       "      <td>16</td>\n",
       "      <td>256</td>\n",
       "      <td>Apple M1</td>\n",
       "      <td>NaN</td>\n",
       "    </tr>\n",
       "    <tr>\n",
       "      <th>8</th>\n",
       "      <td>6/14/2021 21:02</td>\n",
       "      <td>NaN</td>\n",
       "      <td>NaN</td>\n",
       "      <td>MacOS</td>\n",
       "      <td>3.10</td>\n",
       "      <td>2</td>\n",
       "      <td>8</td>\n",
       "      <td>250</td>\n",
       "      <td>Apple designed</td>\n",
       "      <td>NaN</td>\n",
       "    </tr>\n",
       "    <tr>\n",
       "      <th>...</th>\n",
       "      <td>...</td>\n",
       "      <td>...</td>\n",
       "      <td>...</td>\n",
       "      <td>...</td>\n",
       "      <td>...</td>\n",
       "      <td>...</td>\n",
       "      <td>...</td>\n",
       "      <td>...</td>\n",
       "      <td>...</td>\n",
       "      <td>...</td>\n",
       "    </tr>\n",
       "    <tr>\n",
       "      <th>366</th>\n",
       "      <td>6/13/2024 14:13</td>\n",
       "      <td>vrd9sd</td>\n",
       "      <td>lukeschneider7</td>\n",
       "      <td>MacOS</td>\n",
       "      <td>698.00</td>\n",
       "      <td>4</td>\n",
       "      <td>16</td>\n",
       "      <td>512</td>\n",
       "      <td>Intel Iris Plus Graphics 1536 MB</td>\n",
       "      <td>0.0</td>\n",
       "    </tr>\n",
       "    <tr>\n",
       "      <th>372</th>\n",
       "      <td>6/13/2024 14:14</td>\n",
       "      <td>lgs4zj</td>\n",
       "      <td>Lucy-Shichman</td>\n",
       "      <td>MacOS</td>\n",
       "      <td>4.05</td>\n",
       "      <td>8</td>\n",
       "      <td>16</td>\n",
       "      <td>512</td>\n",
       "      <td>Apple-designed integrated graphics</td>\n",
       "      <td>10.0</td>\n",
       "    </tr>\n",
       "    <tr>\n",
       "      <th>373</th>\n",
       "      <td>6/13/2024 14:15</td>\n",
       "      <td>ag6ykz</td>\n",
       "      <td>alandag24</td>\n",
       "      <td>MacOS</td>\n",
       "      <td>3.20</td>\n",
       "      <td>8</td>\n",
       "      <td>8</td>\n",
       "      <td>251</td>\n",
       "      <td>Apple M1</td>\n",
       "      <td>0.0</td>\n",
       "    </tr>\n",
       "    <tr>\n",
       "      <th>375</th>\n",
       "      <td>6/13/2024 14:16</td>\n",
       "      <td>lgr2sge</td>\n",
       "      <td>learunesha</td>\n",
       "      <td>MacOS</td>\n",
       "      <td>3.49</td>\n",
       "      <td>16</td>\n",
       "      <td>8</td>\n",
       "      <td>245</td>\n",
       "      <td>Apple-designed integrated graphics (8–76 core)</td>\n",
       "      <td>16.0</td>\n",
       "    </tr>\n",
       "    <tr>\n",
       "      <th>376</th>\n",
       "      <td>6/13/2024 14:17</td>\n",
       "      <td>jah9kqn</td>\n",
       "      <td>johnhope829</td>\n",
       "      <td>MacOS</td>\n",
       "      <td>1.60</td>\n",
       "      <td>2</td>\n",
       "      <td>16</td>\n",
       "      <td>251</td>\n",
       "      <td>Intel UHD Graphics 617 1536 MB</td>\n",
       "      <td>0.0</td>\n",
       "    </tr>\n",
       "  </tbody>\n",
       "</table>\n",
       "<p>205 rows × 10 columns</p>\n",
       "</div>"
      ],
      "text/plain": [
       "           Timestamp What is your uva net id? (e.g. mst3k)  \\\n",
       "3    6/13/2021 22:31                                   NaN   \n",
       "5    6/14/2021 14:13                                   NaN   \n",
       "6    6/14/2021 15:48                                   NaN   \n",
       "7    6/14/2021 19:29                                   NaN   \n",
       "8    6/14/2021 21:02                                   NaN   \n",
       "..               ...                                   ...   \n",
       "366  6/13/2024 14:13                                vrd9sd   \n",
       "372  6/13/2024 14:14                                lgs4zj   \n",
       "373  6/13/2024 14:15                                ag6ykz   \n",
       "375  6/13/2024 14:16                               lgr2sge   \n",
       "376  6/13/2024 14:17                               jah9kqn   \n",
       "\n",
       "    What is your github user name? Operating System  CPU Cycle Rate (in GHz)  \\\n",
       "3                              NaN            MacOS                     3.10   \n",
       "5                              NaN            MacOS                     1.60   \n",
       "6                              NaN            MacOS                     2.70   \n",
       "7                              NaN            MacOS                     2.00   \n",
       "8                              NaN            MacOS                     3.10   \n",
       "..                             ...              ...                      ...   \n",
       "366                 lukeschneider7            MacOS                   698.00   \n",
       "372                  Lucy-Shichman            MacOS                     4.05   \n",
       "373                      alandag24            MacOS                     3.20   \n",
       "375                     learunesha            MacOS                     3.49   \n",
       "376                    johnhope829            MacOS                     1.60   \n",
       "\n",
       "     CPU Number of Cores (int)  RAM (in GB)  Hard Drive Size (in GB)  \\\n",
       "3                            2            8                      512   \n",
       "5                            2            8                      256   \n",
       "6                            2            8                      250   \n",
       "7                            8           16                      256   \n",
       "8                            2            8                      250   \n",
       "..                         ...          ...                      ...   \n",
       "366                          4           16                      512   \n",
       "372                          8           16                      512   \n",
       "373                          8            8                      251   \n",
       "375                         16            8                      245   \n",
       "376                          2           16                      251   \n",
       "\n",
       "                GPU (short description as a string)  \\\n",
       "3                      Intel Iris Plus Graphics 650   \n",
       "5                    Intel HD Graphics 6000 1536 MB   \n",
       "6                  Intel Iris Graphics 6100 1536 MB   \n",
       "7                                          Apple M1   \n",
       "8                                    Apple designed   \n",
       "..                                              ...   \n",
       "366                Intel Iris Plus Graphics 1536 MB   \n",
       "372              Apple-designed integrated graphics   \n",
       "373                                        Apple M1   \n",
       "375  Apple-designed integrated graphics (8–76 core)   \n",
       "376                  Intel UHD Graphics 617 1536 MB   \n",
       "\n",
       "     GPU CUDA Number of Cores (int)  \n",
       "3                               NaN  \n",
       "5                               NaN  \n",
       "6                               NaN  \n",
       "7                               NaN  \n",
       "8                               NaN  \n",
       "..                              ...  \n",
       "366                             0.0  \n",
       "372                            10.0  \n",
       "373                             0.0  \n",
       "375                            16.0  \n",
       "376                             0.0  \n",
       "\n",
       "[205 rows x 10 columns]"
      ]
     },
     "execution_count": 11,
     "metadata": {},
     "output_type": "execute_result"
    }
   ],
   "source": [
    "df[df[\"Operating System\"] == \"MacOS\"]"
   ]
  },
  {
   "cell_type": "code",
   "execution_count": 12,
   "metadata": {},
   "outputs": [
    {
     "data": {
      "text/plain": [
       "Operating System\n",
       "MacOS                                                              205\n",
       "Windows                                                            143\n",
       "Windows 10                                                          25\n",
       "Any Linux                                                            6\n",
       "I use Mac and Linux                                                  2\n",
       "All of the above                                                     1\n",
       "Windows (by professional necessity), MacOS (by personal choice)      1\n",
       "Name: count, dtype: int64"
      ]
     },
     "execution_count": 12,
     "metadata": {},
     "output_type": "execute_result"
    }
   ],
   "source": [
    "df[\"Operating System\"].value_counts()"
   ]
  },
  {
   "cell_type": "code",
   "execution_count": 14,
   "metadata": {},
   "outputs": [],
   "source": [
    "import seaborn as sns"
   ]
  },
  {
   "cell_type": "code",
   "execution_count": 17,
   "metadata": {},
   "outputs": [
    {
     "data": {
      "text/plain": [
       "0"
      ]
     },
     "execution_count": 17,
     "metadata": {},
     "output_type": "execute_result"
    }
   ],
   "source": [
    "df[\"CPU Cycle Rate (in GHz)\"].isna().sum()"
   ]
  },
  {
   "cell_type": "code",
   "execution_count": 18,
   "metadata": {},
   "outputs": [
    {
     "data": {
      "text/plain": [
       "0"
      ]
     },
     "execution_count": 18,
     "metadata": {},
     "output_type": "execute_result"
    }
   ],
   "source": [
    "df[\"Operating System\"].isna().sum()"
   ]
  },
  {
   "cell_type": "code",
   "execution_count": 33,
   "metadata": {},
   "outputs": [],
   "source": [
    "filtered = df[df[\"CPU Cycle Rate (in GHz)\"]<10]\n"
   ]
  },
  {
   "cell_type": "code",
   "execution_count": 34,
   "metadata": {},
   "outputs": [
    {
     "data": {
      "text/plain": [
       "383"
      ]
     },
     "execution_count": 34,
     "metadata": {},
     "output_type": "execute_result"
    }
   ],
   "source": [
    "len(df)"
   ]
  },
  {
   "cell_type": "code",
   "execution_count": 38,
   "metadata": {},
   "outputs": [
    {
     "data": {
      "image/png": "[encoded data removed]",
      "text/plain": [
       "<Figure size 640x480 with 1 Axes>"
      ]
     },
     "metadata": {},
     "output_type": "display_data"
    }
   ],
   "source": [
    "plt.hist(filtered[\"CPU Cycle Rate (in GHz)\"], 10)\n",
    "plt.xlabel(\"CPU Cycle Rate (in GHz)\")\n",
    "plt.ylabel(\"Count\")\n",
    "plt.show()"
   ]
  },
  {
   "cell_type": "code",
   "execution_count": 40,
   "metadata": {},
   "outputs": [
    {
     "data": {
      "image/png": "[encoded data removed]",
      "text/plain": [
       "<Figure size 640x480 with 1 Axes>"
      ]
     },
     "metadata": {},
     "output_type": "display_data"
    }
   ],
   "source": [
    "sns.histplot(filtered[\"CPU Cycle Rate (in GHz)\"], bins=10)\n",
    "plt.xlabel(\"CPU Cycle Rate (in GHz)\")\n",
    "plt.ylabel(\"Count\")\n",
    "plt.title(\"CPU Cycle Rate (in GHz) Histogram\")\n",
    "plt.show()"
   ]
  },
  {
   "cell_type": "code",
   "execution_count": 41,
   "metadata": {},
   "outputs": [
    {
     "data": {
      "text/plain": [
       "2.575968"
      ]
     },
     "execution_count": 41,
     "metadata": {},
     "output_type": "execute_result"
    }
   ],
   "source": [
    "filtered[\"CPU Cycle Rate (in GHz)\"].mean()"
   ]
  },
  {
   "cell_type": "code",
   "execution_count": 42,
   "metadata": {},
   "outputs": [
    {
     "data": {
      "text/plain": [
       "2.59"
      ]
     },
     "execution_count": 42,
     "metadata": {},
     "output_type": "execute_result"
    }
   ],
   "source": [
    "filtered[\"CPU Cycle Rate (in GHz)\"].median()"
   ]
  },
  {
   "cell_type": "code",
   "execution_count": 43,
   "metadata": {},
   "outputs": [
    {
     "data": {
      "text/plain": [
       "0.94"
      ]
     },
     "execution_count": 43,
     "metadata": {},
     "output_type": "execute_result"
    }
   ],
   "source": [
    "filtered[\"CPU Cycle Rate (in GHz)\"].min()"
   ]
  },
  {
   "cell_type": "code",
   "execution_count": 44,
   "metadata": {},
   "outputs": [
    {
     "data": {
      "text/plain": [
       "4.8"
      ]
     },
     "execution_count": 44,
     "metadata": {},
     "output_type": "execute_result"
    }
   ],
   "source": [
    "filtered[\"CPU Cycle Rate (in GHz)\"].max()"
   ]
  },
  {
   "cell_type": "code",
   "execution_count": null,
   "metadata": {},
   "outputs": [],
   "source": []
  }
 ],
 "metadata": {
  "kernelspec": {
   "display_name": "tech_orient_env",
   "language": "python",
   "name": "python3"
  },
  "language_info": {
   "codemirror_mode": {
    "name": "ipython",
    "version": 3
   },
   "file_extension": ".py",
   "mimetype": "text/x-python",
   "name": "python",
   "nbconvert_exporter": "python",
   "pygments_lexer": "ipython3",
   "version": "3.12.3"
  },
  "orig_nbformat": 4
 },
 "nbformat": 4,
 "nbformat_minor": 2
}
